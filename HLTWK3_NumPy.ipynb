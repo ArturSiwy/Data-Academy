{
  "nbformat": 4,
  "nbformat_minor": 0,
  "metadata": {
    "colab": {
      "name": "HLTWK3_NumPy.ipynb",
      "provenance": [],
      "collapsed_sections": [],
      "authorship_tag": "ABX9TyOMDZrmGXiCmzII3jBVqXFQ",
      "include_colab_link": true
    },
    "kernelspec": {
      "name": "python3",
      "display_name": "Python 3"
    },
    "language_info": {
      "name": "python"
    }
  },
  "cells": [
    {
      "cell_type": "markdown",
      "metadata": {
        "id": "view-in-github",
        "colab_type": "text"
      },
      "source": [
        "<a href=\"https://colab.research.google.com/github/ArturSiwy/Data-Academy/blob/main/HLTWK3_NumPy.ipynb\" target=\"_parent\"><img src=\"https://colab.research.google.com/assets/colab-badge.svg\" alt=\"Open In Colab\"/></a>"
      ]
    },
    {
      "cell_type": "code",
      "metadata": {
        "colab": {
          "base_uri": "https://localhost:8080/"
        },
        "id": "Iauw1k69mSDw",
        "outputId": "aac1329b-7c6b-47b2-c3a5-c866aa917ac9"
      },
      "source": [
        "#1.Create a 1D array of numbers from 0 to 9\n",
        "#4.Replace all odd numbers in an array of 1-10 with the value 1\n",
        "import numpy as np\n",
        "array = np.array([0, 1, 2, 3, 4, 5, 6, 7, 8, 9])\n",
        "print(array)"
      ],
      "execution_count": 2,
      "outputs": [
        {
          "output_type": "stream",
          "text": [
            "[0 1 2 3 4 5 6 7 8 9]\n"
          ],
          "name": "stdout"
        }
      ]
    },
    {
      "cell_type": "code",
      "metadata": {
        "colab": {
          "base_uri": "https://localhost:8080/"
        },
        "id": "AtcN8N-Nnw2v",
        "outputId": "1841bed8-9e49-4ca5-e75a-1c6464462a77"
      },
      "source": [
        "#2.Create a 3×3 NumPy array of all Boolean value Trues\n",
        "import numpy as np\n",
        "array1 = np.ones((3, 3), dtype=bool)\n",
        "print(array1)\n",
        "print(array1.dtype)"
      ],
      "execution_count": 30,
      "outputs": [
        {
          "output_type": "stream",
          "text": [
            "[[ True  True  True]\n",
            " [ True  True  True]\n",
            " [ True  True  True]]\n",
            "bool\n"
          ],
          "name": "stdout"
        }
      ]
    },
    {
      "cell_type": "code",
      "metadata": {
        "colab": {
          "base_uri": "https://localhost:8080/"
        },
        "id": "mz4ZtTQxtOla",
        "outputId": "94cba0d6-b0d4-4937-87eb-5749943d1aff"
      },
      "source": [
        "#3.Extract all odd numbers from array of 1-10\n",
        "array3 = np.arange(1,11)\n",
        "print(array3)\n",
        "newarray3 = array3[array3 % 2 == 1]\n",
        "print(newarray3)"
      ],
      "execution_count": 37,
      "outputs": [
        {
          "output_type": "stream",
          "text": [
            "[ 1  2  3  4  5  6  7  8  9 10]\n",
            "[1 3 5 7 9]\n"
          ],
          "name": "stdout"
        }
      ]
    },
    {
      "cell_type": "code",
      "metadata": {
        "colab": {
          "base_uri": "https://localhost:8080/"
        },
        "id": "UwgGuCz2wEwo",
        "outputId": "69652717-b3d1-4c49-b7f8-a3d565bd2587"
      },
      "source": [
        "#4.Replace all odd numbers in an array of 1-10 with the value 1\n",
        "array4 = np.arange(1,11)\n",
        "print(array4)\n",
        "newarray4 = np.where(array4 % 2 == 1, -1, array4)\n",
        "print(newarray4)"
      ],
      "execution_count": 40,
      "outputs": [
        {
          "output_type": "stream",
          "text": [
            "[ 1  2  3  4  5  6  7  8  9 10]\n",
            "[-1  2 -1  4 -1  6 -1  8 -1 10]\n"
          ],
          "name": "stdout"
        }
      ]
    },
    {
      "cell_type": "code",
      "metadata": {
        "colab": {
          "base_uri": "https://localhost:8080/"
        },
        "id": "7mGQHvBFxj8-",
        "outputId": "67eb12db-6bab-4124-acc8-a8725f144396"
      },
      "source": [
        "#5.Convert a 1D array to a 2D array with 2 rows\n",
        "array5 = np.arange(1,11)\n",
        "print(array5)\n",
        "newarray5 = array5.reshape(2,5)\n",
        "print(newarray5)"
      ],
      "execution_count": 42,
      "outputs": [
        {
          "output_type": "stream",
          "text": [
            "[ 1  2  3  4  5  6  7  8  9 10]\n",
            "[[ 1  2  3  4  5]\n",
            " [ 6  7  8  9 10]]\n"
          ],
          "name": "stdout"
        }
      ]
    },
    {
      "cell_type": "code",
      "metadata": {
        "colab": {
          "base_uri": "https://localhost:8080/"
        },
        "id": "0amRtLGvxk3B",
        "outputId": "ff0bacfa-0030-4380-b01f-9904b039b00a"
      },
      "source": [
        "#6.Create two arrays a and b, stack these two arrays vertically use the np.dot and np.sum to calculate totals\n",
        "a = np.arange(0,24,2)\n",
        "b = np.arange(1,25,2)\n",
        "print(a)\n",
        "print(b)\n",
        "c = np.vstack((a,b))\n",
        "print(c)\n",
        "print(np.dot(a, b))\n",
        "print(np.sum(c,1)) # print sum of each axis (value 1 after coma)\n",
        "print(np.sum(c,)) # print sum of all axis (no value, default=none)"
      ],
      "execution_count": 60,
      "outputs": [
        {
          "output_type": "stream",
          "text": [
            "[ 0  2  4  6  8 10 12 14 16 18 20 22]\n",
            "[ 1  3  5  7  9 11 13 15 17 19 21 23]\n",
            "[[ 0  2  4  6  8 10 12 14 16 18 20 22]\n",
            " [ 1  3  5  7  9 11 13 15 17 19 21 23]]\n",
            "2156\n",
            "[132 144]\n",
            "276\n"
          ],
          "name": "stdout"
        }
      ]
    },
    {
      "cell_type": "code",
      "metadata": {
        "colab": {
          "base_uri": "https://localhost:8080/"
        },
        "id": "Sru9ZCxx4wsg",
        "outputId": "27720339-6718-4198-fff9-6d24ada3c26f"
      },
      "source": [
        "#Extension1\n",
        "e = np.ones(3)\n",
        "print(e)\n",
        "f = (e+1)\n",
        "g = (e+2)\n",
        "print(f)\n",
        "print(g)\n",
        "h = np.concatenate((e,f,g))\n",
        "print(h)"
      ],
      "execution_count": 66,
      "outputs": [
        {
          "output_type": "stream",
          "text": [
            "[1. 1. 1.]\n",
            "[2. 2. 2.]\n",
            "[3. 3. 3.]\n",
            "[1. 1. 1. 2. 2. 2. 3. 3. 3.]\n"
          ],
          "name": "stdout"
        }
      ]
    }
  ]
}