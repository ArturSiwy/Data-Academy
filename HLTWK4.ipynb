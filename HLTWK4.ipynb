{
  "nbformat": 4,
  "nbformat_minor": 0,
  "metadata": {
    "colab": {
      "name": "HLTWK4.ipynb",
      "provenance": [],
      "authorship_tag": "ABX9TyPWPYRLWoFVpFeqsszcnvNj",
      "include_colab_link": true
    },
    "kernelspec": {
      "name": "python3",
      "display_name": "Python 3"
    },
    "language_info": {
      "name": "python"
    }
  },
  "cells": [
    {
      "cell_type": "markdown",
      "metadata": {
        "id": "view-in-github",
        "colab_type": "text"
      },
      "source": [
        "<a href=\"https://colab.research.google.com/github/ArturSiwy/Data-Academy/blob/main/HLTWK4.ipynb\" target=\"_parent\"><img src=\"https://colab.research.google.com/assets/colab-badge.svg\" alt=\"Open In Colab\"/></a>"
      ]
    },
    {
      "cell_type": "code",
      "metadata": {
        "id": "ovVjdoM6Zlnz",
        "colab": {
          "base_uri": "https://localhost:8080/"
        },
        "outputId": "39116cf8-bec9-4dfa-dcf6-fbcf2187becc"
      },
      "source": [
        "#Task week 3\n",
        "#Create a CSV file of 15 holiday destinations for a website\n",
        "#Practicals:\n",
        "#1.How many rows and columns are there in your file?\n",
        "print(\"#1.How many rows and columns are there in your file?\")\n",
        "import pandas as pd\n",
        "holdest = pd.read_csv(\"HolidayDest.csv\")\n",
        "print(holdest.shape)\n",
        "print(\"\\n\")\n",
        "\n",
        "#2.Print row 3-8 ( using iloc loc)\n",
        "print(\"#2.Print row 3-8 ( using iloc loc)\")\n",
        "print(holdest.iloc[2:7])\n",
        "print(\"\\n\")\n",
        "\n",
        "#3.Find the mean number of all inclusive hotels across all destinations.\n",
        "print(\"#3.Find the mean number of all inclusive hotels across all destinations.\")\n",
        "hotel_rating = pd.read_csv(\"HolidayDest.csv\")\n",
        "hotel_rating[\"No. of All Inc Hotels\"].mean()\n",
        "print(\"\\n\")\n",
        "\n",
        "#4.Find the lowest scoring destination.\n",
        "print(\"#4.Find the lowest scoring destination.\")\n",
        "feedback = pd.read_csv(\"HolidayDest.csv\")\n",
        "worst_score = feedback.min()['Feedback Score']\n",
        "print(feedback.loc[worst_score])\n",
        "print(\"\\n\")\n",
        "\n",
        "#5.Find the highest scoring destination.\n",
        "print(\"#5.Find the highest scoring destination.\")\n",
        "best_score = feedback.max()['Feedback Score']\n",
        "print(feedback.loc[best_score])\n",
        "print(\"\\n\")\n",
        "\n",
        "#6.Find all the destinations where there are more than 9 all inclusive hotels.\n",
        "print(\"Find all the destinations where there are more than 9 all inclusive hotels.\")\n",
        "hotels = pd.read_csv(\"HolidayDest.csv\")\n",
        "myfilter = hotels[\"No. of All Inc Hotels\"] > 9\n",
        "myfilter\n",
        "most_hotels = hotels[myfilter]\n",
        "print(most_hotels)\n",
        "print(\"\\n\")\n",
        "\n",
        "#7.Filter the data by score above 8.\n",
        "#8.Filter the data score below 2 ( I need to know if these destinations should be removed or there is a problem)\n"
      ],
      "execution_count": 39,
      "outputs": [
        {
          "output_type": "stream",
          "text": [
            "#1.How many rows and columns are there in your file?\n",
            "(15, 5)\n",
            "\n",
            "\n",
            "#2.Print row 3-8 ( using iloc loc)\n",
            "  Destination  Feedback Score  ...  No. of All Inc Hotels  Most Visited City\n",
            "2       Ibiza             6.5  ...                      4              Ibiza\n",
            "3     Florida            10.0  ...                     11              Miami\n",
            "4    Cornwall             8.0  ...                      2            St Ives\n",
            "5       Wales             8.5  ...                      0           Barmouth\n",
            "6     Bavaria             6.0  ...                      5             Munich\n",
            "\n",
            "[5 rows x 5 columns]\n",
            "\n",
            "\n",
            "#3.Find the mean number of all inclusive hotels across all destinations.\n",
            "\n",
            "\n",
            "#4.Find the lowest scoring destination.\n",
            "Destination              Bavaria\n",
            "Feedback Score                 6\n",
            "Av Hotel Star                4.6\n",
            "No. of All Inc Hotels          5\n",
            "Most Visited City         Munich\n",
            "Name: 6, dtype: object\n",
            "\n",
            "\n",
            "#5.Find the highest scoring destination.\n",
            "Destination              Disneyland\n",
            "Feedback Score                    9\n",
            "Av Hotel Star                   4.5\n",
            "No. of All Inc Hotels             3\n",
            "Most Visited City             Paris\n",
            "Name: 10, dtype: object\n",
            "\n",
            "\n",
            "Find all the destinations where there are more than 9 all inclusive hotels.\n",
            "  Destination  Feedback Score  ...  No. of All Inc Hotels  Most Visited City\n",
            "3     Florida            10.0  ...                     11              Miami\n",
            "\n",
            "[1 rows x 5 columns]\n",
            "\n",
            "\n"
          ],
          "name": "stdout"
        }
      ]
    },
    {
      "cell_type": "code",
      "metadata": {
        "id": "zw-wAqdhBCBd"
      },
      "source": [
        "#Task - Extension\n",
        "#1.Is there a correlation between number of all inclusive hotels and score?\n",
        "#2.Create a data visualisation diagram to show destination and highest scores?"
      ],
      "execution_count": null,
      "outputs": []
    },
    {
      "cell_type": "code",
      "metadata": {
        "id": "cJCXB-RycpKL"
      },
      "source": [
        ""
      ],
      "execution_count": null,
      "outputs": []
    }
  ]
}