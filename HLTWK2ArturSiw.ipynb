{
  "nbformat": 4,
  "nbformat_minor": 0,
  "metadata": {
    "colab": {
      "name": "HLTWK2ArturSiw.ipynb",
      "provenance": [],
      "collapsed_sections": [],
      "authorship_tag": "ABX9TyO/Ra7hbj68jK4UnhiHWqPK",
      "include_colab_link": true
    },
    "kernelspec": {
      "name": "python3",
      "display_name": "Python 3"
    },
    "language_info": {
      "name": "python"
    }
  },
  "cells": [
    {
      "cell_type": "markdown",
      "metadata": {
        "id": "view-in-github",
        "colab_type": "text"
      },
      "source": [
        "<a href=\"https://colab.research.google.com/github/ArturSiwy/Data-Academy/blob/main/HLTWK2ArturSiw.ipynb\" target=\"_parent\"><img src=\"https://colab.research.google.com/assets/colab-badge.svg\" alt=\"Open In Colab\"/></a>"
      ]
    },
    {
      "cell_type": "code",
      "metadata": {
        "id": "0QcK-SanGz7J"
      },
      "source": [
        "# Task 2 of week 2 - defining function for next value of item\n",
        "def depraciation(value, rate):\n",
        "    return value-value*rate"
      ],
      "execution_count": null,
      "outputs": []
    },
    {
      "cell_type": "code",
      "metadata": {
        "colab": {
          "base_uri": "https://localhost:8080/"
        },
        "id": "R3bxO7wtpfT_",
        "outputId": "0fc833f0-8590-400c-a7c6-bb5b31dc328d"
      },
      "source": [
        "# Task 2 part 2 - using proecdure to call out function and give values year on year\n",
        "value = int(input(\"Add item initial value: \" ))\n",
        "rate = float(input(\"Add depraciation rate in decimals: \"))\n",
        "y = 2\n",
        "\n",
        "while value > 1000:\n",
        "    value = depraciation(value, rate)\n",
        "    if value > 1000:\n",
        "        print (\"Value in year\", y, \" - \", value)\n",
        "        y = y + 1\n",
        "    else: pass"
      ],
      "execution_count": null,
      "outputs": [
        {
          "output_type": "stream",
          "text": [
            "Add item initial value: 1000000034562\n",
            "Add depraciation rate in decimals: 0.456\n",
            "Value in year 2  -  544000018801.72797\n",
            "Value in year 3  -  295936010228.14\n",
            "Value in year 4  -  160989189564.10815\n",
            "Value in year 5  -  87578119122.87483\n",
            "Value in year 6  -  47642496802.84391\n",
            "Value in year 7  -  25917518260.747086\n",
            "Value in year 8  -  14099129933.846415\n",
            "Value in year 9  -  7669926684.012449\n",
            "Value in year 10  -  4172440116.102772\n",
            "Value in year 11  -  2269807423.1599083\n",
            "Value in year 12  -  1234775238.19899\n",
            "Value in year 13  -  671717729.5802506\n",
            "Value in year 14  -  365414444.89165634\n",
            "Value in year 15  -  198785458.02106103\n",
            "Value in year 16  -  108139289.1634572\n",
            "Value in year 17  -  58827773.30492072\n",
            "Value in year 18  -  32002308.67787687\n",
            "Value in year 19  -  17409255.92076502\n",
            "Value in year 20  -  9470635.22089617\n",
            "Value in year 21  -  5152025.560167516\n",
            "Value in year 22  -  2802701.9047311284\n",
            "Value in year 23  -  1524669.8361737337\n",
            "Value in year 24  -  829420.3908785111\n",
            "Value in year 25  -  451204.69263791\n",
            "Value in year 26  -  245455.35279502303\n",
            "Value in year 27  -  133527.71192049253\n",
            "Value in year 28  -  72639.07528474793\n",
            "Value in year 29  -  39515.65695490287\n",
            "Value in year 30  -  21496.517383467162\n",
            "Value in year 31  -  11694.105456606136\n",
            "Value in year 32  -  6361.593368393737\n",
            "Value in year 33  -  3460.706792406193\n",
            "Value in year 34  -  1882.624495068969\n",
            "Value in year 35  -  1024.1477253175192\n"
          ],
          "name": "stdout"
        }
      ]
    },
    {
      "cell_type": "code",
      "metadata": {
        "id": "i5fbjKiWxFx6"
      },
      "source": [
        "# Task 3 - week 2 - calcluator - step 1 = defining calculations as functions:\n",
        "def add(x, y):\n",
        "    return x+y\n",
        "def sub(x, y):\n",
        "    return x-y\n",
        "def mul(x, y):\n",
        "    return x*y\n",
        "def div(x,y):\n",
        "    return x/y\n",
        "#def pow(x,y):\n",
        " #   return x**y"
      ],
      "execution_count": null,
      "outputs": []
    },
    {
      "cell_type": "code",
      "metadata": {
        "id": "2nECQjCbxdeT"
      },
      "source": [
        "# Task 3 - part 2 - defining procedure Calculator which is calling out pre-set functions\n",
        "\n",
        "def calculator(x, y):\n",
        "  if op == \"+\" or op == \"a\":\n",
        "    print(add(x, y))\n",
        "  elif op == \"-\" or op == \"b\":\n",
        "    print(sub(x, y))\n",
        "  elif op == \"*\" or op == \"c\":\n",
        "    print(mul(x, y))\n",
        "  elif op == \":\" or op == \"d\":\n",
        "    print(div(x, y))\n",
        "  else:\n",
        "    print(\"start again, wrong operator used\")"
      ],
      "execution_count": null,
      "outputs": []
    },
    {
      "cell_type": "code",
      "metadata": {
        "colab": {
          "base_uri": "https://localhost:8080/"
        },
        "id": "Ttdtr9skPbTs",
        "outputId": "613e775d-5610-4d24-83da-2793d315e2e1"
      },
      "source": [
        "# Task 3 - part 3 - using calculator procedure to perform task with user inut\n",
        "x = float(input(\"Enter 1st number: \"))\n",
        "y = float(input(\"Enter 2nd number: \"))\n",
        "op = input(\"a)+\\nb)-\\nc)*\\nd):\\n:\")\n",
        "\n",
        "calculator(x, y)"
      ],
      "execution_count": null,
      "outputs": [
        {
          "output_type": "stream",
          "text": [
            "Enter 1st number: 323365685\n",
            "Enter 2nd number: 23355456\n",
            "a)+\n",
            "b)-\n",
            "c)*\n",
            "d):\n",
            ":d\n",
            "13.8454023333991\n"
          ],
          "name": "stdout"
        }
      ]
    },
    {
      "cell_type": "code",
      "metadata": {
        "id": "HXQkGRqimF8S"
      },
      "source": [
        "# Task 3 - REDONE\n",
        "def calculator(x, y):\n",
        "  if op == \"+\" or op == \"a\":\n",
        "    print(x + y)\n",
        "  elif op == \"-\" or op == \"b\":\n",
        "    print(x - y)\n",
        "  elif op == \"*\" or op == \"c\":\n",
        "    print(x * y)\n",
        "  elif op == \":\" or op == \"d\":\n",
        "    print(x / y)\n",
        "  else:\n",
        "    print(\"start again, wrong operator used\")"
      ],
      "execution_count": null,
      "outputs": []
    },
    {
      "cell_type": "code",
      "metadata": {
        "id": "YIvwetgFmILc"
      },
      "source": [
        "# Task 3 - REDONE\n",
        "x = float(input(\"Enter 1st number: \"))\n",
        "y = float(input(\"Enter 2nd number: \"))\n",
        "op = input(\"a)+\\nb)-\\nc)*\\nd):\\n:\")\n",
        "\n",
        "calculator(x, y)"
      ],
      "execution_count": null,
      "outputs": []
    }
  ]
}