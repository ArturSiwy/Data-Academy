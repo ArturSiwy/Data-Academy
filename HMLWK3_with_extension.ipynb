{
  "nbformat": 4,
  "nbformat_minor": 0,
  "metadata": {
    "colab": {
      "name": "HMLWK3 with extension.ipynb",
      "provenance": [],
      "collapsed_sections": [],
      "authorship_tag": "ABX9TyNGximYH93P1wyHjkKr3XPo",
      "include_colab_link": true
    },
    "kernelspec": {
      "name": "python3",
      "display_name": "Python 3"
    },
    "language_info": {
      "name": "python"
    }
  },
  "cells": [
    {
      "cell_type": "markdown",
      "metadata": {
        "id": "view-in-github",
        "colab_type": "text"
      },
      "source": [
        "<a href=\"https://colab.research.google.com/github/ArturSiwy/Data-Academy/blob/main/HMLWK3_with_extension.ipynb\" target=\"_parent\"><img src=\"https://colab.research.google.com/assets/colab-badge.svg\" alt=\"Open In Colab\"/></a>"
      ]
    },
    {
      "cell_type": "code",
      "metadata": {
        "id": "G8sccpOsuinE",
        "colab": {
          "base_uri": "https://localhost:8080/"
        },
        "outputId": "344f8b12-ba32-434b-ea2e-e7fa046508ec"
      },
      "source": [
        "#Task 1 - week 3\n",
        "#Write a program that allows you to enter 4 numbers \n",
        "#and stores them in a file called “Numbers”\n",
        "#\n",
        "filename = \"Numbers.txt\"\n",
        "myfile = open(filename, \"w\")\n",
        "number1 = str(input(\"Enter 1st number: \"))\n",
        "number2 = str(input(\"Enter 2nd number: \"))\n",
        "number3 = str(input(\"Enter 3rd number: \"))\n",
        "number4 = str(input(\"Enter 4th number: \"))\n",
        "myfile.write(number1)\n",
        "myfile.write(\"\\n\")\n",
        "myfile.write(number2)\n",
        "myfile.write(\"\\n\")\n",
        "myfile.write(number3)\n",
        "myfile.write(\"\\n\")\n",
        "myfile.write(number4)\n",
        "myfile.write(\"\\n\")\n",
        "#check if numbers been recorded by checking file content using print funtcion \n",
        "myfile.close()\n",
        "myfile = open(filename, \"r\")\n",
        "content = myfile.read()\n",
        "print(content)\n",
        "myfile.close()"
      ],
      "execution_count": null,
      "outputs": [
        {
          "output_type": "stream",
          "text": [
            "Enter 1st number: 5\n",
            "Enter 2nd number: 55\n",
            "Enter 3rd number: 555\n",
            "Enter 4th number: 5555\n",
            "5\n",
            "55\n",
            "555\n",
            "5555\n",
            "\n"
          ],
          "name": "stdout"
        }
      ]
    },
    {
      "cell_type": "code",
      "metadata": {
        "id": "rDo4hiLokvWq"
      },
      "source": [
        "#Task 2 - Week 3\n",
        "#Write a program to ask a student for their percentage mark and \n",
        "#convert this to a grade\n",
        "#Step 1 - defining function\n",
        "\n",
        "def mark_grade(mark):\n",
        "    if mark < 51:\n",
        "      return \"F\"\n",
        "    elif mark < 61:\n",
        "      return \"D\"\n",
        "    elif mark < 71:\n",
        "      return \"C\"\n",
        "    elif mark < 81:\n",
        "      return \"B\"\n",
        "    elif mark < 91:\n",
        "      return \"A\"\n",
        "    elif mark < 96:\n",
        "      return \"A+\"\n",
        "    else: mark < 101 \n",
        "    return \"A++\" \n"
      ],
      "execution_count": null,
      "outputs": []
    },
    {
      "cell_type": "code",
      "metadata": {
        "colab": {
          "base_uri": "https://localhost:8080/"
        },
        "id": "25SrIaHWq9o4",
        "outputId": "c0329c0f-fbe7-4acf-8c39-8da5799fc96b"
      },
      "source": [
        "#Task 2  - week 3\n",
        "#part 2 - programme calling out function for grade conversion\n",
        "mark = int(float(input(\"Put your mark (%) from the test: \")))\n",
        "\n",
        "if mark < 101:\n",
        "  grade = mark_grade(mark)\n",
        "  print(\"Your grade for score of \", mark,\"%\", \"is \",grade)\n",
        "\n",
        "else: print(\"Sorry number incorect, please input number between 0 and 100\")"
      ],
      "execution_count": null,
      "outputs": [
        {
          "output_type": "stream",
          "text": [
            "Put your mark (%) from the test: 66\n",
            "Your grade for score of  66 % is  C\n"
          ],
          "name": "stdout"
        }
      ]
    },
    {
      "cell_type": "code",
      "metadata": {
        "id": "Xz92yF8ut4cd",
        "colab": {
          "base_uri": "https://localhost:8080/"
        },
        "outputId": "dfcecebe-53fe-4bf1-b210-886b0925e859"
      },
      "source": [
        "#Task 2 - extension\n",
        "# Ask the user for their target grade and print this with their mark\n",
        "# If their target grade > exam grade display a suitabe message\n",
        "# If their target grade = exam grade display a suitable message\n",
        "# If their target grade < exam grade display a suitable message\n",
        "\n",
        "#to do\n",
        "grades = {\"A++\": 7,\n",
        "         \"A+\": 6,\n",
        "         \"A\": 5,\n",
        "         \"B\": 4,\n",
        "         \"C\": 3,\n",
        "         \"D\": 2,\n",
        "         \"E\": 2,\n",
        "         \"F\": 1,\n",
        "         }\n",
        "expected_grade = input(\"What grade did you expect to achieve:\\nA\\nB\\nC\\nD or lower\\n\")\n",
        "expected_grade_value = grades[expected_grade]\n",
        "exam_grade_value = grades[grade]\n",
        "print(expected_grade_value) #checking if value brought in correctly\n",
        "print(exam_grade_value) #checking if value brought in correctly\n",
        "if expected_grade_value > exam_grade_value:\n",
        "  print(\"Fantastic - you have overachieved, congratulations!\")\n",
        "elif expected_grade_value == exam_grade_value:\n",
        "  print(\"Great - you have achieved your target grade!\")\n",
        "else: print(\"Sorry that you have missed your grade, chin up!\")"
      ],
      "execution_count": null,
      "outputs": [
        {
          "output_type": "stream",
          "text": [
            "What grade did you expect to achieve:\n",
            "A\n",
            "B\n",
            "C\n",
            "D or lower\n",
            "A\n",
            "5\n",
            "3\n",
            "Fantastic - you have overachieved, congratulations!\n"
          ],
          "name": "stdout"
        }
      ]
    }
  ]
}