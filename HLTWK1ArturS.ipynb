{
  "nbformat": 4,
  "nbformat_minor": 0,
  "metadata": {
    "colab": {
      "name": "HLTWK1ArturS.ipynb",
      "provenance": [],
      "authorship_tag": "ABX9TyOiOYOkVpZHk7MkBxH3r7A3",
      "include_colab_link": true
    },
    "kernelspec": {
      "name": "python3",
      "display_name": "Python 3"
    },
    "language_info": {
      "name": "python"
    }
  },
  "cells": [
    {
      "cell_type": "markdown",
      "metadata": {
        "id": "view-in-github",
        "colab_type": "text"
      },
      "source": [
        "<a href=\"https://colab.research.google.com/github/ArturSiwy/Data-Academy/blob/main/HLTWK1ArturS.ipynb\" target=\"_parent\"><img src=\"https://colab.research.google.com/assets/colab-badge.svg\" alt=\"Open In Colab\"/></a>"
      ]
    },
    {
      "cell_type": "code",
      "metadata": {
        "id": "uZkdDEd-N3CV",
        "colab": {
          "base_uri": "https://localhost:8080/"
        },
        "outputId": "839fa929-035e-456e-9567-348a5eb630da"
      },
      "source": [
        "#task 1\n",
        "user_name = input(\"What is our name? \")\n",
        "import random\n",
        "random_number = random.randint(1,10)\n",
        "# random_number = 7 - this was to test correct answer, for value 7\n",
        "user_number = int(input(\"Please guess what number between 1 and 10 I have in mind. \"))\n",
        "if user_number == random_number:\n",
        "  print(\"Well done \",user_name, \" you have guessed correctly.\")\n",
        "else: print(\"Sorry, not a right guess \")\n"
      ],
      "execution_count": 21,
      "outputs": [
        {
          "output_type": "stream",
          "text": [
            "What is our name? Artur\n",
            "Please guess what number between 1 and 10 I have in mind. 1\n",
            "Sorry, not a right guess \n"
          ],
          "name": "stdout"
        }
      ]
    },
    {
      "cell_type": "code",
      "metadata": {
        "colab": {
          "base_uri": "https://localhost:8080/"
        },
        "id": "YknJmjdtke1b",
        "outputId": "655eeeee-89e0-4920-8540-4af823068dc5"
      },
      "source": [
        "import random\n",
        "random_number = random.randint(1,10)\n",
        "print (random_number)"
      ],
      "execution_count": 10,
      "outputs": [
        {
          "output_type": "stream",
          "text": [
            "1\n"
          ],
          "name": "stdout"
        }
      ]
    }
  ]
}